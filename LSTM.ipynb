{
 "cells": [
  {
   "cell_type": "markdown",
   "metadata": {},
   "source": [
    "RNN构建"
   ]
  },
  {
   "cell_type": "code",
   "execution_count": 21,
   "metadata": {},
   "outputs": [],
   "source": [
    "import pandas as pd\n",
    "import numpy as np\n",
    "import datetime \n",
    "import torch \n",
    "import torch.nn as nn\n",
    "import torch.nn.functional as F\n",
    "from torch.utils.data import Dataset,DataLoader\n",
    "from sklearn.metrics import mean_squared_error\n",
    "import math\n",
    "from math import sqrt\n",
    "import matplotlib.pyplot as plt"
   ]
  },
  {
   "cell_type": "markdown",
   "metadata": {},
   "source": [
    "数据集构建：前n天数据作为参数，当天数据作为label"
   ]
  },
  {
   "cell_type": "code",
   "execution_count": 22,
   "metadata": {},
   "outputs": [
    {
     "name": "stdout",
     "output_type": "stream",
     "text": [
      "           pre_close    open    high     low   close\n",
      "Date                                                \n",
      "2008-01-09    #NAME?  230.95  230.99  221.88  223.30\n",
      "2008-01-10     223.3  222.50  222.85  213.70  215.12\n",
      "2008-01-11    215.12  218.00  219.23  215.50  218.10\n",
      "2008-01-14     218.1  218.85  220.25  217.60  220.10\n",
      "2008-01-15     220.1  220.70  224.60  220.30  223.80\n",
      "2008-01-16     223.8  220.60  220.60  215.40  215.89\n",
      "2008-01-17    215.89  214.03  216.80  213.50  216.47\n",
      "2008-01-18    216.47  214.00  214.90  212.42  214.70\n",
      "2008-01-21     214.7  214.70  216.33  213.80  214.20\n",
      "2008-01-22     214.2  208.00  209.50  204.72  206.42\n",
      "2008-01-23    206.42  212.00  214.25  210.90  212.51\n",
      "2008-01-24    212.51  213.02  217.08  212.61  216.70\n",
      "2008-01-25     216.7  220.10  221.40  218.32  219.80\n",
      "2008-01-28     219.8  219.60  221.97  219.20  220.33\n",
      "2008-01-29    220.33  223.60  224.30  222.56  222.56\n",
      "2008-01-30    222.56  221.00  222.05  220.01  220.10\n",
      "2008-01-31     220.1  220.00  221.04  218.22  219.35\n",
      "2008-02-01    219.35  220.61  221.00  218.56  218.75\n",
      "2008-02-04    218.75  216.00  216.94  215.00  215.60\n",
      "2008-02-05     215.6  215.50  215.58  214.70  215.26\n"
     ]
    }
   ],
   "source": [
    "#数据导入\n",
    "series=pd.read_csv(\n",
    "    filepath_or_buffer='C:/Users/zhouteng/DL_pytorch/data/AU08-20.csv',\n",
    "    sep=',', # 数据分割符，csv默认为“，”，此处可不加，其他格式多为'\\t'\n",
    "    skiprows=1,  # 跳过文件第1行不读入\n",
    "    nrows=20,   # 只读取前n行\n",
    "    parse_dates=['Date'],  # 将指定的某几列数据识别为日期格式，不指定则默认以字符串方式读入\n",
    "    index_col=['Date'],  # 将指定列设为index,否则默认为0开始的序列\n",
    "    # usecols=['candle_begin_time','open'],  # 指定读取某几列数据\n",
    "    # error_bad_lines=False, # 当某行数据读入有问题时，跳过该行，数据脏乱时使用\n",
    "    # na_values='NULL', # 将数据中的null识别为空值，否则将识别为字符串‘null’\n",
    ")\n",
    "print(series)"
   ]
  },
  {
   "cell_type": "code",
   "execution_count": 23,
   "metadata": {},
   "outputs": [
    {
     "name": "stdout",
     "output_type": "stream",
     "text": [
      "Date\n",
      "2008-01-09    223.30\n",
      "2008-01-10    215.12\n",
      "2008-01-11    218.10\n",
      "2008-01-14    220.10\n",
      "2008-01-15    223.80\n",
      "2008-01-16    215.89\n",
      "2008-01-17    216.47\n",
      "2008-01-18    214.70\n",
      "2008-01-21    214.20\n",
      "2008-01-22    206.42\n",
      "2008-01-23    212.51\n",
      "2008-01-24    216.70\n",
      "2008-01-25    219.80\n",
      "2008-01-28    220.33\n",
      "2008-01-29    222.56\n",
      "2008-01-30    220.10\n",
      "2008-01-31    219.35\n",
      "2008-02-01    218.75\n",
      "2008-02-04    215.60\n",
      "2008-02-05    215.26\n",
      "Name: close, dtype: float64\n"
     ]
    }
   ],
   "source": [
    "#取每日收盘价\n",
    "series_close=series['close']\n",
    "print(series_close)"
   ]
  },
  {
   "cell_type": "code",
   "execution_count": 24,
   "metadata": {
    "scrolled": true
   },
   "outputs": [
    {
     "name": "stdout",
     "output_type": "stream",
     "text": [
      "        c0      c1      c2      c3      c4       y\n",
      "0   223.30  215.12  218.10  220.10  223.80  215.89\n",
      "1   215.12  218.10  220.10  223.80  215.89  216.47\n",
      "2   218.10  220.10  223.80  215.89  216.47  214.70\n",
      "3   220.10  223.80  215.89  216.47  214.70  214.20\n",
      "4   223.80  215.89  216.47  214.70  214.20  206.42\n",
      "5   215.89  216.47  214.70  214.20  206.42  212.51\n",
      "6   216.47  214.70  214.20  206.42  212.51  216.70\n",
      "7   214.70  214.20  206.42  212.51  216.70  219.80\n",
      "8   214.20  206.42  212.51  216.70  219.80  220.33\n",
      "9   206.42  212.51  216.70  219.80  220.33  222.56\n",
      "10  212.51  216.70  219.80  220.33  222.56  220.10\n",
      "11  216.70  219.80  220.33  222.56  220.10  219.35\n",
      "12  219.80  220.33  222.56  220.10  219.35  218.75\n",
      "13  220.33  222.56  220.10  219.35  218.75  215.60\n",
      "14  222.56  220.10  219.35  218.75  215.60  215.26\n"
     ]
    }
   ],
   "source": [
    "df = pd.DataFrame()\n",
    "n=5\n",
    "for i in range(n):\n",
    "    df['c%d' % i] = series_close.tolist()[i:-(n - i)]\n",
    "df['y'] = series_close.tolist()[n:]\n",
    "print(df)"
   ]
  },
  {
   "cell_type": "code",
   "execution_count": 25,
   "metadata": {},
   "outputs": [
    {
     "name": "stdout",
     "output_type": "stream",
     "text": [
      "           pre_close    open    high     low   close\n",
      "Date                                                \n",
      "2008-01-09    #NAME?  230.95  230.99  221.88  223.30\n",
      "2008-01-10     223.3  222.50  222.85  213.70  215.12\n",
      "2008-01-11    215.12  218.00  219.23  215.50  218.10\n",
      "2008-01-14     218.1  218.85  220.25  217.60  220.10\n",
      "2008-01-15     220.1  220.70  224.60  220.30  223.80\n",
      "...              ...     ...     ...     ...     ...\n",
      "2020-12-29    395.78  394.40  398.44  393.38  393.86\n",
      "2020-12-30    393.86  394.16  395.28  392.14  393.70\n",
      "2020-12-31     393.7  393.40  397.68  392.64  394.98\n",
      "2021-01-04    394.98  398.98  400.80  398.90  400.04\n",
      "2021-01-05    400.04     NaN     NaN     NaN  400.04\n",
      "\n",
      "[3161 rows x 5 columns]\n"
     ]
    }
   ],
   "source": [
    "#数据导入\n",
    "df_main=pd.read_csv(\n",
    "    filepath_or_buffer='C:/Users/zhouteng/DL_pytorch/data/AUSHFE.csv',\n",
    "    sep=',', # 数据分割符，csv默认为“，”，此处可不加，其他格式多为'\\t'\n",
    "    skiprows=1,  # 跳过文件第1行不读入\n",
    "#     nrows=20,   # 只读取前n行\n",
    "    parse_dates=['Date'],  # 将指定的某几列数据识别为日期格式，不指定则默认以字符串方式读入\n",
    "    index_col=['Date'],  # 将指定列设为index,否则默认为0开始的序列\n",
    "    # usecols=['candle_begin_time','open'],  # 指定读取某几列数据\n",
    "    # error_bad_lines=False, # 当某行数据读入有问题时，跳过该行，数据脏乱时使用\n",
    "    # na_values='NULL', # 将数据中的null识别为空值，否则将识别为字符串‘null’\n",
    ")\n",
    "print(df_main)"
   ]
  },
  {
   "cell_type": "code",
   "execution_count": 26,
   "metadata": {},
   "outputs": [
    {
     "data": {
      "text/plain": [
       "<Figure size 432x288 with 0 Axes>"
      ]
     },
     "metadata": {},
     "output_type": "display_data"
    },
    {
     "name": "stderr",
     "output_type": "stream",
     "text": [
      "D:\\Users\\zhouteng\\anaconda3\\lib\\site-packages\\matplotlib\\backends\\backend_agg.py:211: RuntimeWarning: Glyph 40644 missing from current font.\n",
      "  font.set_text(s, 0.0, flags=flags)\n",
      "D:\\Users\\zhouteng\\anaconda3\\lib\\site-packages\\matplotlib\\backends\\backend_agg.py:211: RuntimeWarning: Glyph 37329 missing from current font.\n",
      "  font.set_text(s, 0.0, flags=flags)\n",
      "D:\\Users\\zhouteng\\anaconda3\\lib\\site-packages\\matplotlib\\backends\\backend_agg.py:211: RuntimeWarning: Glyph 20027 missing from current font.\n",
      "  font.set_text(s, 0.0, flags=flags)\n",
      "D:\\Users\\zhouteng\\anaconda3\\lib\\site-packages\\matplotlib\\backends\\backend_agg.py:211: RuntimeWarning: Glyph 21147 missing from current font.\n",
      "  font.set_text(s, 0.0, flags=flags)\n",
      "D:\\Users\\zhouteng\\anaconda3\\lib\\site-packages\\matplotlib\\backends\\backend_agg.py:211: RuntimeWarning: Glyph 21512 missing from current font.\n",
      "  font.set_text(s, 0.0, flags=flags)\n",
      "D:\\Users\\zhouteng\\anaconda3\\lib\\site-packages\\matplotlib\\backends\\backend_agg.py:211: RuntimeWarning: Glyph 32422 missing from current font.\n",
      "  font.set_text(s, 0.0, flags=flags)\n",
      "D:\\Users\\zhouteng\\anaconda3\\lib\\site-packages\\matplotlib\\backends\\backend_agg.py:211: RuntimeWarning: Glyph 34920 missing from current font.\n",
      "  font.set_text(s, 0.0, flags=flags)\n",
      "D:\\Users\\zhouteng\\anaconda3\\lib\\site-packages\\matplotlib\\backends\\backend_agg.py:211: RuntimeWarning: Glyph 29616 missing from current font.\n",
      "  font.set_text(s, 0.0, flags=flags)\n",
      "D:\\Users\\zhouteng\\anaconda3\\lib\\site-packages\\matplotlib\\backends\\backend_agg.py:180: RuntimeWarning: Glyph 40644 missing from current font.\n",
      "  font.set_text(s, 0, flags=flags)\n",
      "D:\\Users\\zhouteng\\anaconda3\\lib\\site-packages\\matplotlib\\backends\\backend_agg.py:180: RuntimeWarning: Glyph 37329 missing from current font.\n",
      "  font.set_text(s, 0, flags=flags)\n",
      "D:\\Users\\zhouteng\\anaconda3\\lib\\site-packages\\matplotlib\\backends\\backend_agg.py:180: RuntimeWarning: Glyph 20027 missing from current font.\n",
      "  font.set_text(s, 0, flags=flags)\n",
      "D:\\Users\\zhouteng\\anaconda3\\lib\\site-packages\\matplotlib\\backends\\backend_agg.py:180: RuntimeWarning: Glyph 21147 missing from current font.\n",
      "  font.set_text(s, 0, flags=flags)\n",
      "D:\\Users\\zhouteng\\anaconda3\\lib\\site-packages\\matplotlib\\backends\\backend_agg.py:180: RuntimeWarning: Glyph 21512 missing from current font.\n",
      "  font.set_text(s, 0, flags=flags)\n",
      "D:\\Users\\zhouteng\\anaconda3\\lib\\site-packages\\matplotlib\\backends\\backend_agg.py:180: RuntimeWarning: Glyph 32422 missing from current font.\n",
      "  font.set_text(s, 0, flags=flags)\n",
      "D:\\Users\\zhouteng\\anaconda3\\lib\\site-packages\\matplotlib\\backends\\backend_agg.py:180: RuntimeWarning: Glyph 34920 missing from current font.\n",
      "  font.set_text(s, 0, flags=flags)\n",
      "D:\\Users\\zhouteng\\anaconda3\\lib\\site-packages\\matplotlib\\backends\\backend_agg.py:180: RuntimeWarning: Glyph 29616 missing from current font.\n",
      "  font.set_text(s, 0, flags=flags)\n"
     ]
    },
    {
     "data": {
      "image/png": "[encoded data removed]",
      "text/plain": [
       "<Figure size 432x288 with 1 Axes>"
      ]
     },
     "metadata": {
      "needs_background": "light"
     },
     "output_type": "display_data"
    }
   ],
   "source": [
    "plt.figure()\n",
    "df_main['2008':'2021'].plot()\n",
    "plt.title('黄金主力合约表现')\n",
    "plt.show()"
   ]
  },
  {
   "cell_type": "code",
   "execution_count": 27,
   "metadata": {},
   "outputs": [
    {
     "name": "stderr",
     "output_type": "stream",
     "text": [
      "D:\\Users\\zhouteng\\anaconda3\\lib\\site-packages\\matplotlib\\backends\\backend_agg.py:211: RuntimeWarning: Glyph 40644 missing from current font.\n",
      "  font.set_text(s, 0.0, flags=flags)\n",
      "D:\\Users\\zhouteng\\anaconda3\\lib\\site-packages\\matplotlib\\backends\\backend_agg.py:211: RuntimeWarning: Glyph 37329 missing from current font.\n",
      "  font.set_text(s, 0.0, flags=flags)\n",
      "D:\\Users\\zhouteng\\anaconda3\\lib\\site-packages\\matplotlib\\backends\\backend_agg.py:211: RuntimeWarning: Glyph 20027 missing from current font.\n",
      "  font.set_text(s, 0.0, flags=flags)\n",
      "D:\\Users\\zhouteng\\anaconda3\\lib\\site-packages\\matplotlib\\backends\\backend_agg.py:211: RuntimeWarning: Glyph 21147 missing from current font.\n",
      "  font.set_text(s, 0.0, flags=flags)\n",
      "D:\\Users\\zhouteng\\anaconda3\\lib\\site-packages\\matplotlib\\backends\\backend_agg.py:211: RuntimeWarning: Glyph 21512 missing from current font.\n",
      "  font.set_text(s, 0.0, flags=flags)\n",
      "D:\\Users\\zhouteng\\anaconda3\\lib\\site-packages\\matplotlib\\backends\\backend_agg.py:211: RuntimeWarning: Glyph 32422 missing from current font.\n",
      "  font.set_text(s, 0.0, flags=flags)\n",
      "D:\\Users\\zhouteng\\anaconda3\\lib\\site-packages\\matplotlib\\backends\\backend_agg.py:211: RuntimeWarning: Glyph 34920 missing from current font.\n",
      "  font.set_text(s, 0.0, flags=flags)\n",
      "D:\\Users\\zhouteng\\anaconda3\\lib\\site-packages\\matplotlib\\backends\\backend_agg.py:211: RuntimeWarning: Glyph 29616 missing from current font.\n",
      "  font.set_text(s, 0.0, flags=flags)\n",
      "D:\\Users\\zhouteng\\anaconda3\\lib\\site-packages\\matplotlib\\backends\\backend_agg.py:180: RuntimeWarning: Glyph 40644 missing from current font.\n",
      "  font.set_text(s, 0, flags=flags)\n",
      "D:\\Users\\zhouteng\\anaconda3\\lib\\site-packages\\matplotlib\\backends\\backend_agg.py:180: RuntimeWarning: Glyph 37329 missing from current font.\n",
      "  font.set_text(s, 0, flags=flags)\n",
      "D:\\Users\\zhouteng\\anaconda3\\lib\\site-packages\\matplotlib\\backends\\backend_agg.py:180: RuntimeWarning: Glyph 20027 missing from current font.\n",
      "  font.set_text(s, 0, flags=flags)\n",
      "D:\\Users\\zhouteng\\anaconda3\\lib\\site-packages\\matplotlib\\backends\\backend_agg.py:180: RuntimeWarning: Glyph 21147 missing from current font.\n",
      "  font.set_text(s, 0, flags=flags)\n",
      "D:\\Users\\zhouteng\\anaconda3\\lib\\site-packages\\matplotlib\\backends\\backend_agg.py:180: RuntimeWarning: Glyph 21512 missing from current font.\n",
      "  font.set_text(s, 0, flags=flags)\n",
      "D:\\Users\\zhouteng\\anaconda3\\lib\\site-packages\\matplotlib\\backends\\backend_agg.py:180: RuntimeWarning: Glyph 32422 missing from current font.\n",
      "  font.set_text(s, 0, flags=flags)\n",
      "D:\\Users\\zhouteng\\anaconda3\\lib\\site-packages\\matplotlib\\backends\\backend_agg.py:180: RuntimeWarning: Glyph 34920 missing from current font.\n",
      "  font.set_text(s, 0, flags=flags)\n",
      "D:\\Users\\zhouteng\\anaconda3\\lib\\site-packages\\matplotlib\\backends\\backend_agg.py:180: RuntimeWarning: Glyph 29616 missing from current font.\n",
      "  font.set_text(s, 0, flags=flags)\n"
     ]
    },
    {
     "data": {
      "image/png": "[encoded data removed]",
      "text/plain": [
       "<Figure size 720x576 with 4 Axes>"
      ]
     },
     "metadata": {
      "needs_background": "light"
     },
     "output_type": "display_data"
    }
   ],
   "source": [
    "df_main['2008':'2021'].plot(subplots=True,figsize=(10,8))  #figsize（宽*高）\n",
    "plt.title('黄金主力合约表现')\n",
    "plt.show()"
   ]
  },
  {
   "cell_type": "code",
   "execution_count": 28,
   "metadata": {},
   "outputs": [
    {
     "data": {
      "image/png": "[encoded data removed]",
      "text/plain": [
       "<Figure size 432x288 with 1 Axes>"
      ]
     },
     "metadata": {
      "needs_background": "light"
     },
     "output_type": "display_data"
    }
   ],
   "source": [
    "df_main['close'].plot()\n",
    "plt.show()"
   ]
  },
  {
   "cell_type": "code",
   "execution_count": 29,
   "metadata": {},
   "outputs": [],
   "source": [
    "from sklearn import preprocessing\n",
    "from sklearn.preprocessing import MinMaxScaler"
   ]
  },
  {
   "cell_type": "markdown",
   "metadata": {},
   "source": [
    "进行minmaxscaler，防止在之后的训练过程中不收敛："
   ]
  },
  {
   "cell_type": "code",
   "execution_count": 30,
   "metadata": {},
   "outputs": [
    {
     "name": "stdout",
     "output_type": "stream",
     "text": [
      "           pre_close      open      high       low     close\n",
      "Date                                                        \n",
      "2008-01-09    #NAME? -0.486651 -0.493390 -0.511854 -0.505352\n",
      "2008-01-10     223.3 -0.543765 -0.547880 -0.566561 -0.559737\n",
      "2008-01-11    215.12 -0.574180 -0.572112 -0.554523 -0.539924\n",
      "2008-01-14     218.1 -0.568435 -0.565284 -0.540478 -0.526627\n",
      "2008-01-15     220.1 -0.555931 -0.536165 -0.522421 -0.502028\n",
      "...              ...       ...       ...       ...       ...\n",
      "2020-12-29    395.78  0.618114  0.627540  0.635111  0.628615\n",
      "2020-12-30    393.86  0.616492  0.606386  0.626818  0.627551\n",
      "2020-12-31     393.7  0.611355  0.622452  0.630162  0.636061\n",
      "2021-01-04    394.98  0.649071  0.643338  0.672028  0.669703\n",
      "2021-01-05    400.04  0.649071  0.643338  0.672028  0.669703\n",
      "\n",
      "[3161 rows x 5 columns]\n"
     ]
    }
   ],
   "source": [
    "df_main = df_main.fillna(method='ffill')\n",
    "scaler = MinMaxScaler(feature_range=(-1, 1))\n",
    "list_col=['open','high','low','close']\n",
    "for col in list_col:\n",
    "    df_main[col] = scaler.fit_transform(df_main[col].values.reshape(-1,1)) #归一化到-1至1范围内\n",
    "print(df_main)\n",
    "df_main=df_main[['open','high','low','close']].copy()"
   ]
  },
  {
   "cell_type": "code",
   "execution_count": 31,
   "metadata": {
    "scrolled": true
   },
   "outputs": [
    {
     "name": "stdout",
     "output_type": "stream",
     "text": [
      "                open      high       low     close\n",
      "Date                                              \n",
      "2008-01-09 -0.486651 -0.493390 -0.511854 -0.505352\n",
      "2008-01-10 -0.543765 -0.547880 -0.566561 -0.559737\n",
      "2008-01-11 -0.574180 -0.572112 -0.554523 -0.539924\n",
      "2008-01-14 -0.568435 -0.565284 -0.540478 -0.526627\n",
      "2008-01-15 -0.555931 -0.536165 -0.522421 -0.502028\n",
      "...              ...       ...       ...       ...\n",
      "2020-12-29  0.618114  0.627540  0.635111  0.628615\n",
      "2020-12-30  0.616492  0.606386  0.626818  0.627551\n",
      "2020-12-31  0.611355  0.622452  0.630162  0.636061\n",
      "2021-01-04  0.649071  0.643338  0.672028  0.669703\n",
      "2021-01-05  0.649071  0.643338  0.672028  0.669703\n",
      "\n",
      "[3161 rows x 4 columns]\n"
     ]
    }
   ],
   "source": [
    "print(df_main)"
   ]
  },
  {
   "cell_type": "markdown",
   "metadata": {},
   "source": [
    "预测下一个时间的收盘价，所以把close向上shift1个单位："
   ]
  },
  {
   "cell_type": "code",
   "execution_count": 33,
   "metadata": {},
   "outputs": [
    {
     "name": "stdout",
     "output_type": "stream",
     "text": [
      "                open      high       low     close    target\n",
      "Date                                                        \n",
      "2008-01-09 -0.486651 -0.493390 -0.511854 -0.505352 -0.559737\n",
      "2008-01-10 -0.543765 -0.547880 -0.566561 -0.559737 -0.539924\n",
      "2008-01-11 -0.574180 -0.572112 -0.554523 -0.539924 -0.526627\n",
      "2008-01-14 -0.568435 -0.565284 -0.540478 -0.526627 -0.502028\n",
      "2008-01-15 -0.555931 -0.536165 -0.522421 -0.502028 -0.554617\n",
      "...              ...       ...       ...       ...       ...\n",
      "2020-12-29  0.618114  0.627540  0.635111  0.628615  0.627551\n",
      "2020-12-30  0.616492  0.606386  0.626818  0.627551  0.636061\n",
      "2020-12-31  0.611355  0.622452  0.630162  0.636061  0.669703\n",
      "2021-01-04  0.649071  0.643338  0.672028  0.669703  0.669703\n",
      "2021-01-05  0.649071  0.643338  0.672028  0.669703       NaN\n",
      "\n",
      "[3161 rows x 5 columns]\n"
     ]
    }
   ],
   "source": [
    "df_main['target'] = df_main['close'].shift(-1) \n",
    "df_main.dropna() #缺失值过滤\n",
    "df_main = df_main.astype(np.float32)\n",
    "print(df_main)"
   ]
  },
  {
   "cell_type": "markdown",
   "metadata": {},
   "source": [
    "根据LSTM需要的数据格式来创造数据集。Lstm需要的输入是一个3D array[x,y,z],其中x是样本数，y是seq length，即需要看多少天的数据，z是特征数。"
   ]
  },
  {
   "cell_type": "code",
   "execution_count": 34,
   "metadata": {},
   "outputs": [],
   "source": [
    "def create_seq_data(data_raw,seq):\n",
    "    data_feat,data_target = [],[]\n",
    "    for index in range(len(data_raw) - seq):\n",
    "        # 构建特征集\n",
    "        data_feat.append(data_raw[['open', 'high', 'low', 'close']][index: index + seq].values)\n",
    "        # 构建target集\n",
    "        data_target.append(data_raw['target'][index:index + seq])\n",
    "    data_feat = np.array(data_feat)\n",
    "    data_target = np.array(data_target)\n",
    "    return data_feat,data_target"
   ]
  },
  {
   "cell_type": "code",
   "execution_count": 35,
   "metadata": {},
   "outputs": [
    {
     "data": {
      "text/plain": [
       "(array([[[-0.48665088, -0.49338958, -0.51185423, -0.505352  ],\n",
       "         [-0.54376477, -0.54787964, -0.5665608 , -0.5597367 ],\n",
       "         [-0.5741805 , -0.5721123 , -0.55452263, -0.5399242 ],\n",
       "         ...,\n",
       "         [-0.6012166 , -0.6010978 , -0.5751212 , -0.5625291 ],\n",
       "         [-0.5964853 , -0.59152526, -0.565892  , -0.56585336],\n",
       "         [-0.64177084, -0.637246  , -0.6266176 , -0.6175786 ]],\n",
       " \n",
       "        [[-0.54376477, -0.54787964, -0.5665608 , -0.5597367 ],\n",
       "         [-0.5741805 , -0.5721123 , -0.55452263, -0.5399242 ],\n",
       "         [-0.5684353 , -0.5652843 , -0.54047817, -0.52662724],\n",
       "         ...,\n",
       "         [-0.5964853 , -0.59152526, -0.565892  , -0.56585336],\n",
       "         [-0.64177084, -0.637246  , -0.6266176 , -0.6175786 ],\n",
       "         [-0.6147347 , -0.605449  , -0.58528674, -0.5770893 ]],\n",
       " \n",
       "        [[-0.5741805 , -0.5721123 , -0.55452263, -0.5399242 ],\n",
       "         [-0.5684353 , -0.5652843 , -0.54047817, -0.52662724],\n",
       "         [-0.55593103, -0.53616494, -0.522421  , -0.5020278 ],\n",
       "         ...,\n",
       "         [-0.64177084, -0.637246  , -0.6266176 , -0.6175786 ],\n",
       "         [-0.6147347 , -0.605449  , -0.58528674, -0.5770893 ],\n",
       "         [-0.6078405 , -0.5865047 , -0.5738505 , -0.5492321 ]],\n",
       " \n",
       "        ...,\n",
       " \n",
       "        [[ 0.5747212 ,  0.5792081 ,  0.587895  ,  0.60627615],\n",
       "         [ 0.608246  ,  0.607725  ,  0.6221368 ,  0.62675357],\n",
       "         [ 0.61514026,  0.64333767,  0.62588197,  0.65853333],\n",
       "         ...,\n",
       "         [ 0.6221697 ,  0.6326271 ,  0.59886307,  0.64138025],\n",
       "         [ 0.61811423,  0.6275396 ,  0.6351112 ,  0.62861514],\n",
       "         [ 0.61649203,  0.6063862 ,  0.62681824,  0.6275514 ]],\n",
       " \n",
       "        [[ 0.608246  ,  0.607725  ,  0.6221368 ,  0.62675357],\n",
       "         [ 0.61514026,  0.64333767,  0.62588197,  0.65853333],\n",
       "         [ 0.6218993 ,  0.60839444,  0.62681824,  0.6213018 ],\n",
       "         ...,\n",
       "         [ 0.61811423,  0.6275396 ,  0.6351112 ,  0.62861514],\n",
       "         [ 0.61649203,  0.6063862 ,  0.62681824,  0.6275514 ],\n",
       "         [ 0.6113552 ,  0.6224521 ,  0.6301622 ,  0.63606143]],\n",
       " \n",
       "        [[ 0.61514026,  0.64333767,  0.62588197,  0.65853333],\n",
       "         [ 0.6218993 ,  0.60839444,  0.62681824,  0.6213018 ],\n",
       "         [ 0.6090571 ,  0.605449  ,  0.6174553 ,  0.61252576],\n",
       "         ...,\n",
       "         [ 0.61649203,  0.6063862 ,  0.62681824,  0.6275514 ],\n",
       "         [ 0.6113552 ,  0.6224521 ,  0.6301622 ,  0.63606143],\n",
       "         [ 0.6490706 ,  0.64333767,  0.67202806,  0.6697028 ]]],\n",
       "       dtype=float32),\n",
       " array([[-0.5597367 , -0.5399242 , -0.52662724, ..., -0.56585336,\n",
       "         -0.6175786 , -0.5770893 ],\n",
       "        [-0.5399242 , -0.52662724, -0.5020278 , ..., -0.6175786 ,\n",
       "         -0.5770893 , -0.5492321 ],\n",
       "        [-0.52662724, -0.5020278 , -0.5546174 , ..., -0.5770893 ,\n",
       "         -0.5492321 , -0.5286218 ],\n",
       "        ...,\n",
       "        [ 0.62675357,  0.65853333,  0.6213018 , ...,  0.62861514,\n",
       "          0.6275514 ,  0.63606143],\n",
       "        [ 0.65853333,  0.6213018 ,  0.61252576, ...,  0.6275514 ,\n",
       "          0.63606143,  0.6697028 ],\n",
       "        [ 0.6213018 ,  0.61252576,  0.62316334, ...,  0.63606143,\n",
       "          0.6697028 ,  0.6697028 ]], dtype=float32))"
      ]
     },
     "execution_count": 35,
     "metadata": {},
     "output_type": "execute_result"
    }
   ],
   "source": [
    "create_seq_data(df_main,10)"
   ]
  },
  {
   "cell_type": "markdown",
   "metadata": {},
   "source": [
    "设定的每个时间区间是20天，通过高开低收4个来预测，所以datafeat的维度是(3161,20,4)，对应的data_target的维度是\n",
    "(3161,20,1)，1808和20和feat一样，但是因为预测只有一个数值即下一天的收盘价，所以维度为1.\n",
    "\n",
    "然后开始划分训练和测试集划分比例：8：2"
   ]
  },
  {
   "cell_type": "code",
   "execution_count": 36,
   "metadata": {},
   "outputs": [],
   "source": [
    "def train_test(data_feat,data_target,test_set_size,seq):\n",
    "    train_size = data_feat.shape[0] - (test_set_size) \n",
    "    trainX = torch.from_numpy(data_feat[:train_size].reshape(-1,seq,4)).type(torch.Tensor)\n",
    "    testX  = torch.from_numpy(data_feat[train_size:].reshape(-1,seq,4)).type(torch.Tensor)\n",
    "    trainY = torch.from_numpy(data_target[:train_size].reshape(-1,seq,1)).type(torch.Tensor)\n",
    "    testY  = torch.from_numpy(data_target[train_size:].reshape(-1,seq,1)).type(torch.Tensor)\n",
    "    return trainX,trainY,testX,testY\n",
    "\n",
    "seq = 20\n",
    "data_raw=df_main\n",
    "test_set_size = int(np.round(0.2*data_raw.shape[0]))\n",
    "# generate train & test dataset\n",
    "feat,target = create_seq_data(data_raw,seq)\n",
    "trainX,trainY,testX,testY = train_test(feat,target,test_set_size,seq)"
   ]
  },
  {
   "cell_type": "code",
   "execution_count": 37,
   "metadata": {},
   "outputs": [
    {
     "name": "stdout",
     "output_type": "stream",
     "text": [
      "x_train.shape =  torch.Size([2509, 20, 4])\n",
      "y_train.shape =  torch.Size([2509, 20, 1])\n",
      "x_test.shape =  torch.Size([632, 20, 4])\n",
      "y_test.shape =  torch.Size([632, 20, 1])\n"
     ]
    }
   ],
   "source": [
    "print('x_train.shape = ',trainX.shape)\n",
    "print('y_train.shape = ',trainY.shape)\n",
    "print('x_test.shape = ',testX.shape)\n",
    "print('y_test.shape = ',testY.shape)"
   ]
  },
  {
   "cell_type": "markdown",
   "metadata": {},
   "source": [
    "转化为pyorch接收格式\n",
    "\n",
    "通过dataloader来读取数据，其中batch_size要等于训练样本数，epoch设置为100"
   ]
  },
  {
   "cell_type": "code",
   "execution_count": 38,
   "metadata": {},
   "outputs": [],
   "source": [
    "n_steps = seq\n",
    "batch_size = 3161\n",
    "num_epochs = 100\n",
    "#包装为pytorch接收的数据集\n",
    "train = torch.utils.data.TensorDataset(trainX,trainY)\n",
    "test = torch.utils.data.TensorDataset(testX,testY)\n",
    "#加载训练集\n",
    "train_loader = torch.utils.data.DataLoader(dataset=train, \n",
    "                                           batch_size=batch_size, \n",
    "                                           shuffle=False)\n",
    "#加载测试集\n",
    "test_loader = torch.utils.data.DataLoader(dataset=test, \n",
    "                                          batch_size=batch_size, \n",
    "                                          shuffle=False)"
   ]
  },
  {
   "cell_type": "markdown",
   "metadata": {},
   "source": [
    "构建LSTM"
   ]
  },
  {
   "cell_type": "markdown",
   "metadata": {},
   "source": [
    "LSTM的参数主要有input_dim,hidden_dim,num_layers,output_dim.\n",
    "\n",
    "其中input_dim可以看成是输入的特征数,此处为4；hidden_dim设置为32，num_layers是有几层的lstm层，output_dim是最后输出几维，由于最后我们的target只是一维所以output_dim=1."
   ]
  },
  {
   "cell_type": "code",
   "execution_count": 39,
   "metadata": {},
   "outputs": [],
   "source": [
    "#参数设置\n",
    "input_dim = 4\n",
    "hidden_dim = 32\n",
    "num_layers = 2 \n",
    "output_dim = 1\n",
    "\n",
    "#LSTM\n",
    "class LSTM(nn.Module):\n",
    "    def __init__(self, input_dim, hidden_dim, num_layers, output_dim):\n",
    "        super(LSTM, self).__init__()\n",
    "        # Hidden dimensions\n",
    "        self.hidden_dim = hidden_dim\n",
    "\n",
    "        # Number of hidden layers\n",
    "        self.num_layers = num_layers\n",
    "\n",
    "        # Building LSTM\n",
    "        # batch_first=True causes input/output tensors to be of shape\n",
    "        # (batch_dim, seq_dim, feature_dim)\n",
    "        self.lstm = nn.LSTM(input_dim, hidden_dim, num_layers, batch_first=True)\n",
    "\n",
    "        # Readout layer\n",
    "        self.fc = nn.Linear(hidden_dim, output_dim)\n",
    "\n",
    "    #前向传播\n",
    "    def forward(self, x):\n",
    "        # Initialize hidden state with zeros\n",
    "        h0 = torch.zeros(self.num_layers, x.size(0), self.hidden_dim).requires_grad_()\n",
    "\n",
    "        # Initialize cell state\n",
    "        c0 = torch.zeros(self.num_layers, x.size(0), self.hidden_dim).requires_grad_()\n",
    "\n",
    "        # One time step\n",
    "        # We need to detach as we are doing truncated backpropagation through time (BPTT)\n",
    "        # If we don't, we'll backprop all the way to the start even after going through another batch\n",
    "        out, (hn, cn) = self.lstm(x, (h0.detach(), c0.detach()))\n",
    "\n",
    "        out = self.fc(out) \n",
    "        return out   "
   ]
  },
  {
   "cell_type": "code",
   "execution_count": 40,
   "metadata": {},
   "outputs": [
    {
     "name": "stdout",
     "output_type": "stream",
     "text": [
      "LSTM(\n",
      "  (lstm): LSTM(4, 32, num_layers=2, batch_first=True)\n",
      "  (fc): Linear(in_features=32, out_features=1, bias=True)\n",
      ")\n"
     ]
    }
   ],
   "source": [
    "model = LSTM(input_dim=input_dim, hidden_dim=hidden_dim, output_dim=output_dim, num_layers=num_layers)\n",
    "print(model)"
   ]
  },
  {
   "cell_type": "markdown",
   "metadata": {},
   "source": [
    "定义损失函数和优化器，损失函数使用MSE，优化器使用ADAM"
   ]
  },
  {
   "cell_type": "code",
   "execution_count": 41,
   "metadata": {
    "scrolled": true
   },
   "outputs": [
    {
     "name": "stderr",
     "output_type": "stream",
     "text": [
      "D:\\Users\\zhouteng\\anaconda3\\lib\\site-packages\\torch\\nn\\_reduction.py:46: UserWarning: size_average and reduce args will be deprecated, please use reduction='mean' instead.\n",
      "  warnings.warn(warning.format(ret))\n"
     ]
    }
   ],
   "source": [
    "loss_fn = torch.nn.MSELoss(size_average=True)\n",
    "optimiser = torch.optim.Adam(model.parameters(), lr=0.01)"
   ]
  },
  {
   "cell_type": "markdown",
   "metadata": {},
   "source": [
    "模型训练\n",
    "\n",
    "初始化h和c状态 -> 前向传播 -> 计算loss -> 计算梯度 -> 后向更新权重 -> 优化权重参数。"
   ]
  },
  {
   "cell_type": "code",
   "execution_count": 42,
   "metadata": {},
   "outputs": [
    {
     "name": "stdout",
     "output_type": "stream",
     "text": [
      "Epoch  10 MSE:  0.021140137687325478\n",
      "Epoch  20 MSE:  0.009971095249056816\n",
      "Epoch  30 MSE:  0.0052365753799676895\n",
      "Epoch  40 MSE:  0.002971199806779623\n",
      "Epoch  50 MSE:  0.002082136459648609\n",
      "Epoch  60 MSE:  0.001437039696611464\n",
      "Epoch  70 MSE:  0.0010533746099099517\n",
      "Epoch  80 MSE:  0.0008163535967469215\n",
      "Epoch  90 MSE:  0.0006770738982595503\n"
     ]
    }
   ],
   "source": [
    "hist = np.zeros(num_epochs)\n",
    "seq_dim = seq\n",
    "for t in range(num_epochs):\n",
    "    # Initialise hidden state\n",
    "    # Don't do this if you want your LSTM to be stateful\n",
    "    #model.hidden = model.init_hidden()\n",
    "    \n",
    "    # Forward pass\n",
    "    y_train_pred = model(trainX)\n",
    "\n",
    "    loss = loss_fn(y_train_pred, trainY)\n",
    "    if t % 10 == 0 and t !=0:\n",
    "        print(\"Epoch \", t, \"MSE: \", loss.item())\n",
    "    hist[t] = loss.item()\n",
    "\n",
    "    # Zero out gradient, else they will accumulate between epochs\n",
    "    optimiser.zero_grad()\n",
    "\n",
    "    # Backward pass\n",
    "    loss.backward()\n",
    "\n",
    "    # Update parameters\n",
    "    optimiser.step()"
   ]
  },
  {
   "cell_type": "markdown",
   "metadata": {},
   "source": [
    "预测过程\n",
    "\n",
    "因为我们所拿到的最后的预测结果其实还是（num_sample，20,1）这样一个状态，但我们想要的是每个sample只要最后一个时期的预测，所以我们就只拿每个sample的20天的预测结结果的最后一天的进行和真实的target比较就好,即下面的y_test_pred.detach().numpy()[:,-1,0]；"
   ]
  },
  {
   "cell_type": "code",
   "execution_count": 43,
   "metadata": {
    "scrolled": true
   },
   "outputs": [
    {
     "name": "stdout",
     "output_type": "stream",
     "text": [
      "Train Score: 3.20 RMSE\n",
      "Test Score: 5.58 RMSE\n"
     ]
    }
   ],
   "source": [
    "y_test_pred = model(testX)\n",
    "\n",
    "# invert predictions\n",
    "y_train_pred = scaler.inverse_transform(y_train_pred.detach().numpy()[:,-1,0].reshape(-1,1))\n",
    "y_train = scaler.inverse_transform(trainY.detach().numpy()[:,-1,0].reshape(-1,1))\n",
    "y_test_pred = scaler.inverse_transform(y_test_pred.detach().numpy()[:,-1,0].reshape(-1,1))\n",
    "y_test = scaler.inverse_transform(testY.detach().numpy()[:,-1,0].reshape(-1,1))\n",
    "\n",
    "# calculate root mean squared error\n",
    "trainScore = math.sqrt(mean_squared_error(y_train, y_train_pred))\n",
    "print('Train Score: %.2f RMSE' % (trainScore))\n",
    "testScore = math.sqrt(mean_squared_error(y_test, y_test_pred))\n",
    "print('Test Score: %.2f RMSE' % (testScore))"
   ]
  },
  {
   "cell_type": "code",
   "execution_count": 53,
   "metadata": {},
   "outputs": [
    {
     "name": "stdout",
     "output_type": "stream",
     "text": [
      "(632, 1)\n"
     ]
    }
   ],
   "source": [
    "print(y_test_pred.shape)"
   ]
  },
  {
   "cell_type": "code",
   "execution_count": 63,
   "metadata": {},
   "outputs": [
    {
     "data": {
      "image/png": "[encoded data removed]",
      "text/plain": [
       "<Figure size 432x288 with 1 Axes>"
      ]
     },
     "metadata": {
      "needs_background": "light"
     },
     "output_type": "display_data"
    }
   ],
   "source": [
    "x=pd.date_range('2018-5-4','2021-1-5',freq='1d') #横坐标日期范围及间隔\n",
    "plt.plot(y_test,label='y_test')\n",
    "plt.plot(y_test_pred,label='y_test_pred')\n",
    "plt.legend(['y_test','y_test_pred']) #显示图例\n",
    "plt.savefig('y_test.png')\n",
    "plt.show()"
   ]
  },
  {
   "cell_type": "code",
   "execution_count": 64,
   "metadata": {},
   "outputs": [
    {
     "data": {
      "image/png": "[encoded data removed]",
      "text/plain": [
       "<Figure size 432x288 with 1 Axes>"
      ]
     },
     "metadata": {
      "needs_background": "light"
     },
     "output_type": "display_data"
    }
   ],
   "source": [
    "df_main.loc['2018-05-04':'2021-01-05','close'].plot()\n",
    "plt.savefig('close_test.png')"
   ]
  },
  {
   "cell_type": "code",
   "execution_count": null,
   "metadata": {},
   "outputs": [],
   "source": []
  }
 ],
 "metadata": {
  "kernelspec": {
   "display_name": "Python 3",
   "language": "python",
   "name": "python3"
  },
  "language_info": {
   "codemirror_mode": {
    "name": "ipython",
    "version": 3
   },
   "file_extension": ".py",
   "mimetype": "text/x-python",
   "name": "python",
   "nbconvert_exporter": "python",
   "pygments_lexer": "ipython3",
   "version": "3.8.5"
  }
 },
 "nbformat": 4,
 "nbformat_minor": 4
}
